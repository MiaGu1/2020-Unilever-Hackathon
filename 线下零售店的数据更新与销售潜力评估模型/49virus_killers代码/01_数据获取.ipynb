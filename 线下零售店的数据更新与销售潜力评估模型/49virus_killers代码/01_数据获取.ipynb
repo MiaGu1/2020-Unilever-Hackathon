{
 "cells": [
  {
   "cell_type": "code",
   "execution_count": null,
   "metadata": {},
   "outputs": [],
   "source": [
    "import requests\n",
    "import json\n",
    "import codecs\n",
    "import pandas as pd\n",
    "import numpy as np\n",
    "\n",
    "# API\n",
    "dic = {}\n",
    "data = []\n",
    "key = 'af402fbd13e82822fa32ed9ee9075ef5'\n",
    "pages = range(1,7)\n",
    "types = '商场'\n",
    "city = 'luoyang'\n",
    "extensions = 'all'\n",
    "offset=25\n",
    "headers = {\"Content-Type\": \"application/json\"}\n",
    "x = []\n",
    "for page in pages:\n",
    "    url = 'https://restapi.amap.com/v3/place/text?key={}&types={}&city={}&extensions={}&page={}&offset={}'.format(key,types,city,extensions,page,offset)\n",
    "    result = requests.get(url, headers = headers).json()\n",
    "    if result['pois']:\n",
    "        for i in range(len(result['pois'])):\n",
    "            if result['pois'][i]['address']:\n",
    "                dic['address'] = result['pois'][i]['cityname'] + result['pois'][i]['adname'] + result['pois'][i]['address']\n",
    "            dic['adname']=result['pois'][i]['adname']\n",
    "            dic['location'] = result['pois'][i]['location']\n",
    "            dic['name'] = result['pois'][i]['name']\n",
    "            dic['type'] = result['pois'][i]['type']\n",
    "            dic['biz_ext']=result['pois'][i]['biz_ext']['rating']\n",
    "            if dic.copy() not in data:\n",
    "                data.append(dic.copy())\n",
    "            else:\n",
    "                x.append(dic.copy())\n",
    "\n",
    "# 转化为dataframe\n",
    "address=[]\n",
    "adname=[]\n",
    "location=[]\n",
    "name=[]\n",
    "type=[]\n",
    "rating=[]\n",
    "for i in range(len(data)):\n",
    "    name.append(data[i]['name'])\n",
    "    location.append(data[i]['location'])\n",
    "    adname.append(data[i]['adname'])\n",
    "    address.append(data[i]['address'])\n",
    "    type.append(data[i]['type'])\n",
    "    rating.append(data[i]['biz_ext'])\n",
    "dict_df={'name':name,'location':location,'adname':adname,'address':address,'type':type,'rating':rating}\n",
    "df=pd.DataFrame(data=dict_df)\n",
    "\n",
    "# save\n",
    "outputpath='E:\\\\1数学建模比赛\\\\联合利华-销量预测\\\\商场.csv'\n",
    "df.to_csv(outputpath,sep=',',index=False,header=True)"
   ]
  }
 ],
 "metadata": {
  "kernelspec": {
   "display_name": "Python 3",
   "language": "python",
   "name": "python3"
  },
  "language_info": {
   "codemirror_mode": {
    "name": "ipython",
    "version": 3
   },
   "file_extension": ".py",
   "mimetype": "text/x-python",
   "name": "python",
   "nbconvert_exporter": "python",
   "pygments_lexer": "ipython3",
   "version": "3.6.8"
  }
 },
 "nbformat": 4,
 "nbformat_minor": 2
}
