{
 "cells": [
  {
   "cell_type": "code",
   "execution_count": null,
   "metadata": {
    "scrolled": true
   },
   "outputs": [],
   "source": [
    "import numpy as np\n",
    "import pandas as pd\n",
    "import math\n",
    "\n",
    "path='E:\\\\1数学建模比赛\\\\联合利华-销量预测\\\\round II\\\\test_new.csv'\n",
    "data=pd.read_csv(path,header=0,encoding='gbk')\n",
    "data.head(5)"
   ]
  },
  {
   "cell_type": "code",
   "execution_count": null,
   "metadata": {},
   "outputs": [],
   "source": [
    "import requests\n",
    "key='8456bff1455cdd4e6c9bcc7ad038c9a5'\n",
    "#key='8a29854db552d35c13cb952f25b1287b'\n",
    "#key='af402fbd13e82822fa32ed9ee9075ef5'\n",
    "#key='bacc39317570d40ea08aca08746a6c95'\n",
    "radius=1000\n",
    "#extensions='all'\n",
    "headers = {\"Content-Type\": \"application/json\"}\n",
    "headers_1={\"Content-Type_1\": \"application/json\"}\n",
    "#types={'餐饮':'050000','住宿':'100000','商场':'060100'}\n",
    "types={'便利店':'060200','超级市场':'060400','个人用品':'061400'}\n",
    "#types={'住宅区':'120300','写字楼':'120201','医院':'090100|090200','学校':'141201|141205|141206'}\n",
    "#types={'公交车站':'150700','停车场':'150904'}\n",
    "#types={'地铁站':'150500'}\n",
    "\n",
    "types_name=['便利店','超级市场','个人用品']\n",
    "\n",
    "#types_name=['地铁站']"
   ]
  },
  {
   "cell_type": "code",
   "execution_count": null,
   "metadata": {},
   "outputs": [],
   "source": [
    "location_dict=[]\n",
    "for i in range(81): # location循环 len(location)\n",
    "    type_dict={}\n",
    "    for index,j in enumerate(types.keys()): # 类型循环\n",
    "        url='https://restapi.amap.com/v3/place/around?key={}&location={}&types={}&radius={}&extensions=all&offset=25'.format(key,location[i],types[j],radius)\n",
    "        result = requests.get(url, headers = headers).json()\n",
    "        cnts=int(result['count'])\n",
    "        pages=math.ceil(cnts/25)\n",
    "        cnt=set() # 集合，无重复元素\n",
    "        for page in range(pages): # 翻页\n",
    "            url_1='https://restapi.amap.com/v3/place/around?key={}&location={}&types={}&radius={}&page={}&extensions=all&offset=25'.format(key,location[i],types[j],radius,page)\n",
    "            result_1=requests.get(url_1,headers=headers_1).json()\n",
    "            if result_1['count']=='0': # 该页count为0时，直接结束当前循环，统计下一个类型\n",
    "                break\n",
    "            if result_1['pois']:\n",
    "                for m in range(len(result_1['pois'])):\n",
    "                    cnt.add(result_1['pois'][m]['id']) # add pois中的id\n",
    "        type_dict[types_name[index]]=len(cnt)\n",
    "    location_dict.append(type_dict)"
   ]
  }
 ],
 "metadata": {
  "kernelspec": {
   "display_name": "Python 3",
   "language": "python",
   "name": "python3"
  },
  "language_info": {
   "codemirror_mode": {
    "name": "ipython",
    "version": 3
   },
   "file_extension": ".py",
   "mimetype": "text/x-python",
   "name": "python",
   "nbconvert_exporter": "python",
   "pygments_lexer": "ipython3",
   "version": "3.7.1"
  }
 },
 "nbformat": 4,
 "nbformat_minor": 2
}
